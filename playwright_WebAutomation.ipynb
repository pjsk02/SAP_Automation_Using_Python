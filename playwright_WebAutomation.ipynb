{
 "cells": [
  {
   "cell_type": "code",
   "execution_count": null,
   "id": "e2123e0f",
   "metadata": {},
   "outputs": [],
   "source": [
    "import os, time, pathlib\n",
    "from dotenv import load_dotenv\n",
    "from playwright.sync_api import sync_playwright, expect\n"
   ]
  },
  {
   "cell_type": "code",
   "execution_count": null,
   "id": "938bc205",
   "metadata": {},
   "outputs": [],
   "source": [
    "\n",
    "load_dotenv()\n",
    "BASE_URL = \"https://tracking.magaya.com/?orgname=37508#livetrack\"          # e.g., login page\n",
    "USERNAME = \"lucygboviet\"\n",
    "PASSWORD = \"LGarcia27834\"\n",
    "DOWNLOAD_DIR = pathlib.Path(\"downloads\")\n",
    "DOWNLOAD_DIR.mkdir(exist_ok=True)"
   ]
  },
  {
   "cell_type": "code",
   "execution_count": null,
   "id": "6a0d7ad6",
   "metadata": {},
   "outputs": [],
   "source": [
    "\n",
    "# start \n",
    "def main():\n",
    "    with sync_playwright() as p:\n",
    "        browser = p.chromium.launch(headless=True)  # set False to see the browser\n",
    "        context = browser.new_context(accept_downloads=True)\n",
    "        page = context.new_page()\n",
    "\n",
    "        # 1) Log in\n",
    "        page.goto(BASE_URL, wait_until=\"domcontentloaded\")\n",
    "\n",
    "        # Example: fill login form. Adjust selectors  to your page.\n",
    "        page.get_by_label(\"Username\").fill(USERNAME)\n",
    "        page.get_by_label(\"Password\").fill(PASSWORD)\n",
    "        page.get_by_role(\"button\", name=\"Sign in\").click()\n",
    "\n",
    "        # Wait for a known element that confirms login succeeded\n",
    "        page.wait_for_load_state(\"networkidle\")   # or use a specific locator:\n",
    "        # expect(page.get_by_role(\"heading\", name=\"Dashboard\")).to_be_visible()\n",
    "\n",
    "        # 2) Navigate to the download page\n",
    "        page.goto(\"https://example.com/reports/daily\", wait_until=\"domcontentloaded\")\n",
    "\n",
    "        # Optional: set filters/date, etc.\n",
    "        # page.get_by_label(\"From Date\").fill(\"2025-10-01\")\n",
    "        # page.get_by_label(\"To Date\").fill(\"2025-10-06\")\n",
    "        # page.get_by_role(\"button\", name=\"Apply\").click()\n",
    "        # page.wait_for_load_state(\"networkidle\")\n",
    "\n",
    "        # 3) Trigger the download (Playwright captures the file reliably)\n",
    "        with page.expect_download() as dl_info:\n",
    "            # Prefer role/text locators over dynamic IDs\n",
    "            page.get_by_role(\"button\", name=\"Download CSV\").click()\n",
    "        download = dl_info.value\n",
    "\n",
    "        # 4) Save the file with a timestamp\n",
    "        timestamp = time.strftime(\"%Y%m%d-%H%M%S\")\n",
    "        suggested = download.suggested_filename or \"report.csv\"\n",
    "        safe_name = f\"{timestamp}_{suggested}\"\n",
    "        target_path = DOWNLOAD_DIR / safe_name\n",
    "        download.save_as(target_path)\n",
    "\n",
    "        print(f\"Saved: {target_path.resolve()}\")\n",
    "\n",
    "        context.close()\n",
    "        browser.close()\n",
    "\n",
    "if __name__ == \"__main__\":\n",
    "    main()\n"
   ]
  }
 ],
 "metadata": {
  "language_info": {
   "name": "python"
  }
 },
 "nbformat": 4,
 "nbformat_minor": 5
}
