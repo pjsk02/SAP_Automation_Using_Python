{
 "cells": [
  {
   "cell_type": "code",
   "execution_count": 6,
   "id": "e2123e0f",
   "metadata": {},
   "outputs": [],
   "source": [
    "import os, time, pathlib\n",
    "from dotenv import load_dotenv\n",
    "from playwright.sync_api import sync_playwright, expect\n"
   ]
  },
  {
   "cell_type": "code",
   "execution_count": 7,
   "id": "938bc205",
   "metadata": {},
   "outputs": [],
   "source": [
    "\n",
    "load_dotenv()\n",
    "BASE_URL = \"https://tracking.magaya.com/?orgname=37508#livetrack\"          # e.g., login page\n",
    "USERNAME = \"lucygboviet\"\n",
    "PASSWORD = \"LGarcia27834\"\n",
    "DOWNLOAD_DIR = pathlib.Path(\"downloads\")\n",
    "DOWNLOAD_DIR.mkdir(exist_ok=True)"
   ]
  },
  {
   "cell_type": "code",
   "execution_count": 8,
   "id": "6a0d7ad6",
   "metadata": {},
   "outputs": [
    {
     "ename": "Error",
     "evalue": "It looks like you are using Playwright Sync API inside the asyncio loop.\nPlease use the Async API instead.",
     "output_type": "error",
     "traceback": [
      "\u001b[31m---------------------------------------------------------------------------\u001b[39m",
      "\u001b[31mError\u001b[39m                                     Traceback (most recent call last)",
      "\u001b[36mCell\u001b[39m\u001b[36m \u001b[39m\u001b[32mIn[8]\u001b[39m\u001b[32m, line 48\u001b[39m\n\u001b[32m     45\u001b[39m         browser.close()\n\u001b[32m     47\u001b[39m \u001b[38;5;28;01mif\u001b[39;00m \u001b[34m__name__\u001b[39m == \u001b[33m\"\u001b[39m\u001b[33m__main__\u001b[39m\u001b[33m\"\u001b[39m:\n\u001b[32m---> \u001b[39m\u001b[32m48\u001b[39m     \u001b[43mmain\u001b[49m\u001b[43m(\u001b[49m\u001b[43m)\u001b[49m\n",
      "\u001b[36mCell\u001b[39m\u001b[36m \u001b[39m\u001b[32mIn[8]\u001b[39m\u001b[32m, line 3\u001b[39m, in \u001b[36mmain\u001b[39m\u001b[34m()\u001b[39m\n\u001b[32m      2\u001b[39m \u001b[38;5;28;01mdef\u001b[39;00m\u001b[38;5;250m \u001b[39m\u001b[34mmain\u001b[39m():\n\u001b[32m----> \u001b[39m\u001b[32m3\u001b[39m \u001b[43m    \u001b[49m\u001b[38;5;28;43;01mwith\u001b[39;49;00m\u001b[43m \u001b[49m\u001b[43msync_playwright\u001b[49m\u001b[43m(\u001b[49m\u001b[43m)\u001b[49m\u001b[43m \u001b[49m\u001b[38;5;28;43;01mas\u001b[39;49;00m\u001b[43m \u001b[49m\u001b[43mp\u001b[49m\u001b[43m:\u001b[49m\n\u001b[32m      4\u001b[39m \u001b[43m        \u001b[49m\u001b[43mbrowser\u001b[49m\u001b[43m \u001b[49m\u001b[43m=\u001b[49m\u001b[43m \u001b[49m\u001b[43mp\u001b[49m\u001b[43m.\u001b[49m\u001b[43mchromium\u001b[49m\u001b[43m.\u001b[49m\u001b[43mlaunch\u001b[49m\u001b[43m(\u001b[49m\u001b[43mheadless\u001b[49m\u001b[43m=\u001b[49m\u001b[38;5;28;43;01mFalse\u001b[39;49;00m\u001b[43m)\u001b[49m\u001b[43m  \u001b[49m\u001b[38;5;66;43;03m# set False to see the browser\u001b[39;49;00m\n\u001b[32m      5\u001b[39m \u001b[43m        \u001b[49m\u001b[43mcontext\u001b[49m\u001b[43m \u001b[49m\u001b[43m=\u001b[49m\u001b[43m \u001b[49m\u001b[43mbrowser\u001b[49m\u001b[43m.\u001b[49m\u001b[43mnew_context\u001b[49m\u001b[43m(\u001b[49m\u001b[43maccept_downloads\u001b[49m\u001b[43m=\u001b[49m\u001b[38;5;28;43;01mTrue\u001b[39;49;00m\u001b[43m)\u001b[49m\n",
      "\u001b[36mFile \u001b[39m\u001b[32m~\\AppData\\Local\\Packages\\PythonSoftwareFoundation.Python.3.11_qbz5n2kfra8p0\\LocalCache\\local-packages\\Python311\\site-packages\\playwright\\sync_api\\_context_manager.py:47\u001b[39m, in \u001b[36mPlaywrightContextManager.__enter__\u001b[39m\u001b[34m(self)\u001b[39m\n\u001b[32m     45\u001b[39m             \u001b[38;5;28mself\u001b[39m._own_loop = \u001b[38;5;28;01mTrue\u001b[39;00m\n\u001b[32m     46\u001b[39m         \u001b[38;5;28;01mif\u001b[39;00m \u001b[38;5;28mself\u001b[39m._loop.is_running():\n\u001b[32m---> \u001b[39m\u001b[32m47\u001b[39m             \u001b[38;5;28;01mraise\u001b[39;00m Error(\n\u001b[32m     48\u001b[39m \u001b[38;5;250m                \u001b[39m\u001b[33;03m\"\"\"It looks like you are using Playwright Sync API inside the asyncio loop.\u001b[39;00m\n\u001b[32m     49\u001b[39m \u001b[33;03mPlease use the Async API instead.\"\"\"\u001b[39;00m\n\u001b[32m     50\u001b[39m             )\n\u001b[32m     52\u001b[39m         \u001b[38;5;66;03m# Create a new fiber for the protocol dispatcher. It will be pumping events\u001b[39;00m\n\u001b[32m     53\u001b[39m         \u001b[38;5;66;03m# until the end of times. We will pass control to that fiber every time we\u001b[39;00m\n\u001b[32m     54\u001b[39m         \u001b[38;5;66;03m# block while waiting for a response.\u001b[39;00m\n\u001b[32m     55\u001b[39m         \u001b[38;5;28;01mdef\u001b[39;00m\u001b[38;5;250m \u001b[39m\u001b[34mgreenlet_main\u001b[39m() -> \u001b[38;5;28;01mNone\u001b[39;00m:\n",
      "\u001b[31mError\u001b[39m: It looks like you are using Playwright Sync API inside the asyncio loop.\nPlease use the Async API instead."
     ]
    }
   ],
   "source": [
    "\n",
    "# start \n",
    "def main():\n",
    "    with sync_playwright() as p:\n",
    "        browser = p.chromium.launch(headless=False)  # set False to see the browser\n",
    "        context = browser.new_context(accept_downloads=True)\n",
    "        page = context.new_page()\n",
    "\n",
    "        # 1) Log in\n",
    "        page.goto(BASE_URL, wait_until=\"domcontentloaded\")\n",
    "\n",
    "        # Example: fill login form. Adjust selectors  to your page.\n",
    "        page.get_by_label(\"Username\").fill(USERNAME)\n",
    "        page.get_by_label(\"Password\").fill(PASSWORD)\n",
    "        page.get_by_role(\"button\", name=\"Sign in\").click()\n",
    "        time.sleep(15)\n",
    "        # Wait for a known element that confirms login succeeded\n",
    "        page.wait_for_load_state(\"networkidle\")   # or use a specific locator:\n",
    "        # expect(page.get_by_role(\"heading\", name=\"Dashboard\")).to_be_visible()\n",
    "\n",
    "        # 2) Navigate to the download page\n",
    "        page.goto(\"https://example.com/reports/daily\", wait_until=\"domcontentloaded\")\n",
    "\n",
    "        # Optional: set filters/date, etc.\n",
    "        # page.get_by_label(\"From Date\").fill(\"2025-10-01\")\n",
    "        # page.get_by_label(\"To Date\").fill(\"2025-10-06\")\n",
    "        # page.get_by_role(\"button\", name=\"Apply\").click()\n",
    "        # page.wait_for_load_state(\"networkidle\")\n",
    "\n",
    "        # 3) Trigger the download (Playwright captures the file reliably)\n",
    "        with page.expect_download() as dl_info:\n",
    "            # Prefer role/text locators over dynamic IDs\n",
    "            page.get_by_role(\"button\", name=\"Download CSV\").click()\n",
    "        download = dl_info.value\n",
    "\n",
    "        # 4) Save the file with a timestamp\n",
    "        timestamp = time.strftime(\"%Y%m%d-%H%M%S\")\n",
    "        suggested = download.suggested_filename or \"report.csv\"\n",
    "        safe_name = f\"{timestamp}_{suggested}\"\n",
    "        target_path = DOWNLOAD_DIR / safe_name\n",
    "        download.save_as(target_path)\n",
    "\n",
    "        print(f\"Saved: {target_path.resolve()}\")\n",
    "\n",
    "        context.close()\n",
    "        browser.close()\n",
    "\n",
    "if __name__ == \"__main__\":\n",
    "    main()\n"
   ]
  },
  {
   "cell_type": "code",
   "execution_count": null,
   "id": "e253fb1c",
   "metadata": {},
   "outputs": [],
   "source": []
  }
 ],
 "metadata": {
  "kernelspec": {
   "display_name": "Python 3",
   "language": "python",
   "name": "python3"
  },
  "language_info": {
   "codemirror_mode": {
    "name": "ipython",
    "version": 3
   },
   "file_extension": ".py",
   "mimetype": "text/x-python",
   "name": "python",
   "nbconvert_exporter": "python",
   "pygments_lexer": "ipython3",
   "version": "3.11.9"
  }
 },
 "nbformat": 4,
 "nbformat_minor": 5
}
