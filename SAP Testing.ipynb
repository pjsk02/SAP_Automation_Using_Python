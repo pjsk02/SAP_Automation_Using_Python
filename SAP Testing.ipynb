{
 "cells": [
  {
   "cell_type": "markdown",
   "id": "8595586e",
   "metadata": {},
   "source": [
    "# SAP Automation using Python"
   ]
  },
  {
   "cell_type": "code",
   "execution_count": 5,
   "id": "429dc631",
   "metadata": {},
   "outputs": [],
   "source": [
    "import win32com.client\n",
    "import subprocess\n",
    "import time"
   ]
  },
  {
   "cell_type": "code",
   "execution_count": null,
   "id": "78fb056d",
   "metadata": {},
   "outputs": [],
   "source": [
    "# # warning to display pop up message\n",
    "# def warning():\n",
    "#     from tkinter import messagebox\n",
    "#     root = messagebox.showwarning(\"Warning\", \"This Automation bot is to view the material details which are already existing!\")\n",
    "#     # time for this message to stay\n",
    "#     time.sleep(2)\n",
    "#     # root.mainloop()\n",
    "#     root.destroy()"
   ]
  },
  {
   "cell_type": "code",
   "execution_count": 7,
   "id": "51f2a6c5",
   "metadata": {},
   "outputs": [],
   "source": [
    "# open SAP Logon\n",
    "subprocess.Popen(r\"C:\\Program Files (x86)\\SAP\\FrontEnd\\SAPgui\\saplogon.exe\")\n",
    "time.sleep(5)\n",
    "SapGuiAuto = win32com.client.GetObject('SAPGUI')\n",
    "application = SapGuiAuto.GetScriptingEngine\n",
    "connection = application.OpenConnection(\"USDEV\",True)\n",
    "\n",
    "# login\n",
    "session = connection.Children(0)\n",
    "session.findById(\"wnd[0]/usr/txtRSYST-MANDT\").text = \"800\" # Client\n",
    "session.findById(\"wnd[0]/usr/txtRSYST-BNAME\").text = \"JESAI\"    # User\n",
    "session.findById(\"wnd[0]/usr/pwdRSYST-BCODE\").text = \"jaisai2025\"  # Password\n",
    "session.findById(\"wnd[0]/usr/txtRSYST-LANGU\").text = \"EN\"   # Language\n",
    "session.findById(\"wnd[0]\").sendVKey(0) # Enter\n",
    "time.sleep(1)"
   ]
  },
  {
   "cell_type": "code",
   "execution_count": null,
   "id": "c2d393d0",
   "metadata": {},
   "outputs": [],
   "source": [
    "# navigate to transaction code\n",
    "session.findById(\"wnd[0]/tbar[0]/okcd\").text = \"/nMIRO\" # Transaction code\n",
    "session.findById(\"wnd[0]\").sendVKey(0) # Enter\n",
    "time.sleep(1)"
   ]
  },
  {
   "cell_type": "code",
   "execution_count": null,
   "id": "915bdd05",
   "metadata": {},
   "outputs": [],
   "source": [
    "# # Entering Material Number\n",
    "# session.findById(\"wnd[0]/usr/ctxtRMMG1-MATNR\").text = \"7100031\" # Material Number\n",
    "# session.findById(\"wnd[0]\").sendVKey(0) # Enter\n",
    "# time.sleep(1)\n"
   ]
  },
  {
   "cell_type": "markdown",
   "id": "e581c922",
   "metadata": {},
   "source": [
    "## Reading Excel file"
   ]
  },
  {
   "cell_type": "code",
   "execution_count": null,
   "id": "bdd38132",
   "metadata": {},
   "outputs": [],
   "source": [
    "# pip install pandas openpyxl\n",
    "import pandas as pd\n",
    "from pathlib import Path\n",
    "\n",
    "XLSX_PATH = Path(r\"/mnt/data/Duty Invoice Automation.xlsx\")  # change to your local path on Windows\n",
    "\n",
    "KEEP_COLS = [\"Date\", \"Entry Number\", \"PO Number\", \"Grand Total\"]\n",
    "\n",
    "# Read first sheet, coerce types\n",
    "df = pd.read_excel(XLSX_PATH, sheet_name=0, dtype={\"Entry Number\": str, \"PO Number\": str})\n",
    "# Standardize column names just in case of whitespace/casing\n",
    "df.columns = [c.strip() for c in df.columns]\n",
    "\n",
    "# Keep only the columns we care about (will raise if a column is missing)\n",
    "missing = [c for c in KEEP_COLS if c not in df.columns]\n",
    "if missing:\n",
    "    raise ValueError(f\"Missing expected columns: {missing}\")\n",
    "\n",
    "# Clean & format\n",
    "out = (\n",
    "    df[KEEP_COLS]\n",
    "    .copy()\n",
    "    .assign(\n",
    "        # parse dates safely; coerce errors to NaT, then format to SAP-friendly string YYYYMMDD\n",
    "        Date=lambda d: pd.to_datetime(d[\"Date\"], errors=\"coerce\").dt.strftime(\"%Y%m%d\"),\n",
    "        # strip spaces\n",
    "        **{\"Entry Number\": df[\"Entry Number\"].astype(str).str.strip(),\n",
    "           \"PO Number\": df[\"PO Number\"].astype(str).str.strip()}\n",
    "    )\n",
    ")\n",
    "\n",
    "# Keep only rows that actually have something to post (you can tweak this rule)\n",
    "out = out.dropna(how=\"all\", subset=[\"Date\", \"Entry Number\", \"PO Number\", \"Grand Total\"])\n",
    "\n",
    "# Iterate row by row\n",
    "records = out.to_dict(orient=\"records\")\n",
    "for r in records:\n",
    "    print(r)\n"
   ]
  }
 ],
 "metadata": {
  "kernelspec": {
   "display_name": "Python 3",
   "language": "python",
   "name": "python3"
  },
  "language_info": {
   "codemirror_mode": {
    "name": "ipython",
    "version": 3
   },
   "file_extension": ".py",
   "mimetype": "text/x-python",
   "name": "python",
   "nbconvert_exporter": "python",
   "pygments_lexer": "ipython3",
   "version": "3.11.9"
  }
 },
 "nbformat": 4,
 "nbformat_minor": 5
}
